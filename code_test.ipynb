{
 "cells": [
  {
   "cell_type": "markdown",
   "metadata": {},
   "source": [
    "f= open(\"float99.txt\",\"a+\")\n",
    "i = 9.1\n",
    "f.write(str(i))\n",
    "f.close() "
   ]
  },
  {
   "cell_type": "code",
   "execution_count": 5,
   "metadata": {},
   "outputs": [
    {
     "name": "stdout",
     "output_type": "stream",
     "text": [
      " 1\n"
     ]
    }
   ],
   "source": [
    "f= open(\"lastishop.txt\",\"w+\")\n",
    "f.write(\" %d\" %1)\n",
    "f.close() \n",
    "\n",
    "f= open(\"lastishop.txt\",\"r+\")\n",
    "result=f.read()\n",
    "print result \n",
    "f.close() \n",
    "\n"
   ]
  },
  {
   "cell_type": "code",
   "execution_count": 83,
   "metadata": {},
   "outputs": [
    {
     "name": "stdout",
     "output_type": "stream",
     "text": [
      "2,0.2,\n"
     ]
    },
    {
     "data": {
      "text/plain": [
       "','"
      ]
     },
     "execution_count": 83,
     "metadata": {},
     "output_type": "execute_result"
    }
   ],
   "source": [
    "f=open(\"guru99.txt\", \"r\")\n",
    "if f.mode == 'r':\n",
    "    contents =f.read()\n",
    "    print contents\n",
    "contents[1]\n"
   ]
  },
  {
   "cell_type": "code",
   "execution_count": 4,
   "metadata": {},
   "outputs": [],
   "source": [
    "def main():\n",
    "     f= open(\"guru98.txt\",\"w+\")\n",
    "     #f=open(\"guru99.txt\",\"a+\")\n",
    "     for i in range(-10,10,1):\n",
    "         f.write(\"This,\")\n",
    "     f.close()   \n",
    "     #Open the file back and read the contents\n",
    "     #f=open(\"guru99.txt\", \"r\")\n",
    "     #   if f.mode == 'r': \n",
    "     #     contents =f.read()\n",
    "     #     print contents\n",
    "     #or, readlines reads the individual line into a list\n",
    "     #fl =f.readlines()\n",
    "     #for x in fl:\n",
    "     #print x\n",
    "if __name__== \"__main__\":\n",
    "  main()"
   ]
  },
  {
   "cell_type": "code",
   "execution_count": 3,
   "metadata": {},
   "outputs": [],
   "source": [
    "f= open(\"guru88.txt\",\"w+\")    #a+: append, w+: 覆寫\n",
    "f.write(\"%s,\"%str(999))\n",
    "\n",
    "f.close() "
   ]
  },
  {
   "cell_type": "code",
   "execution_count": 41,
   "metadata": {},
   "outputs": [],
   "source": [
    "v_cplex = 1+2j \n",
    "v_float = 1.5 \n",
    "v_int = 1 \n",
    "v_bool = True\n",
    "\n",
    "f=open(\"guru99.txt\",\"r\") \n",
    "y=[] \n",
    "for line in f: \n",
    "    x=line.split(',') \n",
    "    for v_float in x: \n",
    "        y.append(v_float)\n",
    "\n"
   ]
  },
  {
   "cell_type": "code",
   "execution_count": 99,
   "metadata": {
    "scrolled": false
   },
   "outputs": [
    {
     "name": "stdout",
     "output_type": "stream",
     "text": [
      "[1.1, 2.2, 999.0]\n",
      "[1.1, 2.2, 9.99]\n"
     ]
    }
   ],
   "source": [
    "mink = []\n",
    "\n",
    "with open(\"guru99.txt\", \"w+\") as file1: \n",
    "    file1.write(\"%s,\"%str(1.1))\n",
    "    file1.write(\"%s,\"%str(2.2))\n",
    "    file1.write(\"%s,\"%str(999))\n",
    "    file1.close()\n",
    "    \n",
    "with open(\"guru99.txt\", \"r+\") as file1:    \n",
    "    f_list = [float(i) for line in file1 for i in line.split(',') if i.strip()]\n",
    "    mink = f_list[:]\n",
    "    print mink\n",
    "    file1.close()\n",
    "    \n",
    "with open(\"guru99.txt\", \"w+\") as file1: \n",
    "    a=0.01*mink[2]\n",
    "    file1.write(\"%s,\"%str(1.1))\n",
    "    file1.write(\"%s,\"%str(2.2))\n",
    "    file1.write(\"%s,\"%str(a))\n",
    "    file1.close\n",
    "\n",
    "with open(\"guru99.txt\", \"r+\") as file1:    \n",
    "    f_list = [float(i) for line in file1 for i in line.split(',') if i.strip()]\n",
    "    mink = f_list[:]\n",
    "    print mink\n",
    "    file1.close()"
   ]
  },
  {
   "cell_type": "code",
   "execution_count": null,
   "metadata": {},
   "outputs": [],
   "source": [
    "f= open(\"guru99.txt\",\"w+\")    #a+: append, w+: 覆寫\n",
    "f.write(\"%s,\"%str(999))\n",
    "\n",
    "f.close() "
   ]
  },
  {
   "cell_type": "code",
   "execution_count": 6,
   "metadata": {},
   "outputs": [
    {
     "name": "stdout",
     "output_type": "stream",
     "text": [
      "-15\n",
      "-10\n",
      "-5\n",
      "0\n",
      "5\n",
      "10\n",
      "15\n"
     ]
    }
   ],
   "source": [
    "for k1 in range(-15,16,5):\n",
    "    print k1   "
   ]
  },
  {
   "cell_type": "code",
   "execution_count": null,
   "metadata": {},
   "outputs": [],
   "source": [
    "                    with open(\"guru9.txt\", \"r+\") as file1:    \n",
    "                        f_list = [float(i) for line in file1 for i in line.split(',') if i.strip()]\n",
    "                        mink = f_list[:]\n",
    "                        file1.close()\n",
    "                        if mink[0] > abs(theta1-self.theta1_desire):\n",
    "                            mink[0] = theta1-self.theta1_desire\n",
    "                            with open(\"guru9.txt\", \"w+\") as file1:\n",
    "                                file1.write(\"%s,\"%str(mink[0]))\n",
    "                                file1.write(\"%s,\"%str(self.kp1))\n",
    "                                file1.write(\"%s,\"%str(self.kv1))\n",
    "                                file1.write(\"%s,\"%str(self.k1))\n",
    "                                file1.write(\"%s,\"%str(self.k2))\n",
    "                                file1.write(\"%s,\"%str(self.k3))\n",
    "                                file1.write(\"%s,\"%str(theta1))\n",
    "                                file1.write(\"%s,\"%str(self.theta1_desire))\n",
    "                                file1.close   "
   ]
  },
  {
   "cell_type": "code",
   "execution_count": 2,
   "metadata": {},
   "outputs": [
    {
     "data": {
      "text/plain": [
       "1.0"
      ]
     },
     "execution_count": 2,
     "metadata": {},
     "output_type": "execute_result"
    }
   ],
   "source": [
    "float(True)"
   ]
  },
  {
   "cell_type": "code",
   "execution_count": 5,
   "metadata": {},
   "outputs": [
    {
     "name": "stdout",
     "output_type": "stream",
     "text": [
      "1\n",
      "1\n",
      "1\n",
      "0\n",
      "0\n",
      "0\n",
      "1\n",
      "1\n",
      "1\n",
      "0\n"
     ]
    }
   ],
   "source": [
    "import random\n",
    "for x in range(10):\n",
    "  print random.randint(0,1)"
   ]
  },
  {
   "cell_type": "code",
   "execution_count": 17,
   "metadata": {},
   "outputs": [
    {
     "name": "stdout",
     "output_type": "stream",
     "text": [
      "999.0\n",
      "0.0\n"
     ]
    }
   ],
   "source": [
    "with open(\"guru9.txt\", \"w+\") as file1:\n",
    "        file1.write(\"%s,\"%str(999))\n",
    "\n",
    "with open(\"guru9.txt\", \"r+\") as file1:    \n",
    "                        f_list = [float(i) for line in file1 for i in line.split(',') if i.strip()]\n",
    "                        print f_list[0] \n",
    "with open(\"guru9.txt\", \"w+\") as file1:              \n",
    "                        file1.write(\"%s,\"%str(0))\n",
    "with open(\"guru9.txt\", \"r+\") as file1:    \n",
    "                        f_list = [float(i) for line in file1 for i in line.split(',') if i.strip()]       \n",
    "        \n",
    "                        print f_list[0]\n",
    "                        file1.close   "
   ]
  },
  {
   "cell_type": "code",
   "execution_count": 24,
   "metadata": {},
   "outputs": [
    {
     "name": "stdout",
     "output_type": "stream",
     "text": [
      "[ -5.99500000e+02  -6.00500000e+02  -3.50000000e-01   1.79950000e+03\n",
      "   2.00500000e+02]\n"
     ]
    }
   ],
   "source": [
    "import math\n",
    "import numpy as np\n",
    "\n",
    "k0=np.array([-600,-600,0.15,1800,200] ) \n",
    "delta_k=np.array([random.randint(0,1)-0.5,random.randint(0,1)-0.5,random.randint(0,1)-0.5, random.randint(0,1)-0.5,random.randint(0,1)-0.5])\n",
    "print k0[:]+delta_k[:]\n"
   ]
  },
  {
   "cell_type": "code",
   "execution_count": 22,
   "metadata": {},
   "outputs": [
    {
     "ename": "SyntaxError",
     "evalue": "invalid syntax (<ipython-input-22-94129411e748>, line 1)",
     "output_type": "error",
     "traceback": [
      "\u001b[0;36m  File \u001b[0;32m\"<ipython-input-22-94129411e748>\"\u001b[0;36m, line \u001b[0;32m1\u001b[0m\n\u001b[0;31m    a=[1;1]\u001b[0m\n\u001b[0m        ^\u001b[0m\n\u001b[0;31mSyntaxError\u001b[0m\u001b[0;31m:\u001b[0m invalid syntax\n"
     ]
    }
   ],
   "source": [
    "a=[1;1]\n",
    "b=[1;0]\n",
    "print a+b\n"
   ]
  },
  {
   "cell_type": "code",
   "execution_count": 28,
   "metadata": {},
   "outputs": [
    {
     "name": "stdout",
     "output_type": "stream",
     "text": [
      "q 1\n"
     ]
    }
   ],
   "source": [
    "print \"q\",1\n"
   ]
  },
  {
   "cell_type": "code",
   "execution_count": 7,
   "metadata": {},
   "outputs": [
    {
     "name": "stdout",
     "output_type": "stream",
     "text": [
      "[1e-16, 2.0, 3.0, 4.0, 5.0, 0.06]\n",
      "[  1.00000000e-16   2.00000000e+00   3.00000000e+00   4.00000000e+00\n",
      "   5.00000000e+00]\n"
     ]
    }
   ],
   "source": [
    "import numpy as np\n",
    "\n",
    "with open(\"min.txt\", \"w+\") as file2: \n",
    "                            file2.write(\"%.12s,\"%str(0.0000000000000001))\n",
    "                            file2.write(\"%.8s\\n\"%str(2))\n",
    "                            file2.write(\"%8s,\"%str(3)) \n",
    "                            file2.write(\"%8s\\n\"%str(4)) \n",
    "                            file2.write(\"%5s,\"%str(5)) \n",
    "                            file2.write(\"%12s\\n\"%str(0.06)) \n",
    "                            file2.close() \n",
    "\n",
    "\n",
    "with open(\"min.txt\", \"r+\") as file1:    \n",
    "                        f_list = [float(i) for line in file1 for i in line.split(',') if i.strip()]\n",
    "                        print f_list\n",
    "                        print np.array(f_list[0:5])\n",
    "                                       "
   ]
  },
  {
   "cell_type": "code",
   "execution_count": 8,
   "metadata": {},
   "outputs": [
    {
     "name": "stdout",
     "output_type": "stream",
     "text": [
      "3\n"
     ]
    }
   ],
   "source": [
    "print abs(-3)"
   ]
  },
  {
   "cell_type": "code",
   "execution_count": 22,
   "metadata": {},
   "outputs": [
    {
     "ename": "IndexError",
     "evalue": "too many indices for array",
     "output_type": "error",
     "traceback": [
      "\u001b[0;31m---------------------------------------------------------------------------\u001b[0m",
      "\u001b[0;31mIndexError\u001b[0m                                Traceback (most recent call last)",
      "\u001b[0;32m<ipython-input-22-717011a1eed7>\u001b[0m in \u001b[0;36m<module>\u001b[0;34m()\u001b[0m\n\u001b[1;32m      5\u001b[0m                      \u001b[0;34m[\u001b[0m\u001b[0;36m0\u001b[0m\u001b[0;34m,\u001b[0m\u001b[0;36m2\u001b[0m\u001b[0;34m,\u001b[0m\u001b[0;36m0.1\u001b[0m\u001b[0;34m,\u001b[0m\u001b[0;36m0\u001b[0m\u001b[0;34m,\u001b[0m\u001b[0;36m0.5\u001b[0m\u001b[0;34m,\u001b[0m\u001b[0;36m0.1\u001b[0m\u001b[0;34m,\u001b[0m\u001b[0;36m0\u001b[0m\u001b[0;34m,\u001b[0m\u001b[0;36m0\u001b[0m\u001b[0;34m,\u001b[0m\u001b[0;36m0\u001b[0m\u001b[0;34m,\u001b[0m\u001b[0;36m0\u001b[0m\u001b[0;34m]\u001b[0m\u001b[0;34m,\u001b[0m\u001b[0;34m\u001b[0m\u001b[0m\n\u001b[1;32m      6\u001b[0m                      [0,2,0,0,0.5,-0.1,0,0,0,0]])\n\u001b[0;32m----> 7\u001b[0;31m \u001b[0;32mprint\u001b[0m\u001b[0;34m(\u001b[0m\u001b[0mxx\u001b[0m\u001b[0;34m[\u001b[0m\u001b[0;36m0\u001b[0m\u001b[0;34m,\u001b[0m\u001b[0;34m:\u001b[0m\u001b[0;34m]\u001b[0m\u001b[0;34m)\u001b[0m\u001b[0;34m\u001b[0m\u001b[0m\n\u001b[0m",
      "\u001b[0;31mIndexError\u001b[0m: too many indices for array"
     ]
    }
   ],
   "source": [
    "import numpy as np\n",
    "xx = np.array([[0,2,0,0,0.5,0.1,0,0,0,0],\n",
    "                    [0,2,0.1,0.1,0.5,0.1,0,0,0,0],\n",
    "                     [0,2,0,0,0.1,0.5,0.1,0,0,0,0],\n",
    "                     [0,2,0.1,0,0.5,0.1,0,0,0,0],\n",
    "                     [0,2,0,0,0.5,-0.1,0,0,0,0]])\n",
    "print(xx[0,:])"
   ]
  },
  {
   "cell_type": "code",
   "execution_count": 4,
   "metadata": {},
   "outputs": [
    {
     "ename": "TypeError",
     "evalue": "data type not understood",
     "output_type": "error",
     "traceback": [
      "\u001b[0;31m---------------------------------------------------------------------------\u001b[0m",
      "\u001b[0;31mTypeError\u001b[0m                                 Traceback (most recent call last)",
      "\u001b[0;32m<ipython-input-4-49d74d1e7041>\u001b[0m in \u001b[0;36m<module>\u001b[0;34m()\u001b[0m\n\u001b[0;32m----> 1\u001b[0;31m \u001b[0mxx\u001b[0m\u001b[0;34m=\u001b[0m\u001b[0mnp\u001b[0m\u001b[0;34m.\u001b[0m\u001b[0mzeros\u001b[0m\u001b[0;34m(\u001b[0m\u001b[0;36m2\u001b[0m\u001b[0;34m,\u001b[0m\u001b[0;36m3\u001b[0m\u001b[0;34m)\u001b[0m\u001b[0;34m\u001b[0m\u001b[0m\n\u001b[0m",
      "\u001b[0;31mTypeError\u001b[0m: data type not understood"
     ]
    }
   ],
   "source": [
    "xx=np.zeros(2,3)"
   ]
  },
  {
   "cell_type": "code",
   "execution_count": 23,
   "metadata": {},
   "outputs": [],
   "source": [
    "import numpy as np\n",
    "xx = np.array([[0,2,0,0,0.5,0.1,0,0,0,0],\n",
    "                    [0,2,0.1,0.1,0.5,0.1,0,0,0,0],\n",
    "                     [0,2,0,0.1,0.5,0.1,0,0,0,0],\n",
    "                     [0,2,0.1,0,0.5,0.1,0,0,0,0],\n",
    "                     [0,2,0,0,0.5,-0.1,0,0,0,0]])\n",
    "x0 = xx[0]"
   ]
  },
  {
   "cell_type": "code",
   "execution_count": 3,
   "metadata": {},
   "outputs": [],
   "source": [
    "import numpy as np\n",
    "import matplotlib.pyplot as plt\n",
    "import random\n",
    "r= random.randint(1,105)"
   ]
  },
  {
   "cell_type": "code",
   "execution_count": null,
   "metadata": {},
   "outputs": [],
   "source": []
  }
 ],
 "metadata": {
  "kernelspec": {
   "display_name": "Python 2",
   "language": "python",
   "name": "python2"
  },
  "language_info": {
   "codemirror_mode": {
    "name": "ipython",
    "version": 2
   },
   "file_extension": ".py",
   "mimetype": "text/x-python",
   "name": "python",
   "nbconvert_exporter": "python",
   "pygments_lexer": "ipython2",
   "version": "2.7.12"
  }
 },
 "nbformat": 4,
 "nbformat_minor": 2
}
